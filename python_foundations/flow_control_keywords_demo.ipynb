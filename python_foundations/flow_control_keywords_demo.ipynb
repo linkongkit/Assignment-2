{
 "cells": [
  {
   "cell_type": "markdown",
   "id": "86afef0e",
   "metadata": {},
   "source": [
    "# Python Flow Control Keywords: if, for, while\n",
    "\n",
    "This notebook demonstrates the use of Python's main flow control keywords: `if`, `for`, and `while`."
   ]
  },
  {
   "cell_type": "markdown",
   "id": "41ddf015",
   "metadata": {},
   "source": [
    "## 1. The `if` Statement\n",
    "The `if` statement is used for conditional execution."
   ]
  },
  {
   "cell_type": "code",
   "execution_count": null,
   "id": "177abe91",
   "metadata": {},
   "outputs": [],
   "source": [
    "x = 10\n",
    "if x > 5:\n",
    "    print('x is greater than 5')\n",
    "else:\n",
    "    print('x is not greater than 5')"
   ]
  },
  {
   "cell_type": "markdown",
   "id": "96da5602",
   "metadata": {},
   "source": [
    "### Inline (Ternary) if Syntax\n",
    "You can use a one-line if-else expression, called a ternary operator, to assign values based on a condition."
   ]
  },
  {
   "cell_type": "code",
   "execution_count": null,
   "id": "b3ab87f5",
   "metadata": {},
   "outputs": [],
   "source": [
    "x = 3\n",
    "result = 'x is positive' if x > 0 else 'x is zero or negative'\n",
    "print(result)"
   ]
  },
  {
   "cell_type": "markdown",
   "id": "2dcf9a1b",
   "metadata": {},
   "source": [
    "## 2. The `for` Loop\n",
    "The `for` loop is used to iterate over a sequence (like a list or range)."
   ]
  },
  {
   "cell_type": "code",
   "execution_count": null,
   "id": "3e2ed414",
   "metadata": {},
   "outputs": [],
   "source": [
    "for i in range(3):\n",
    "    print(f'Iteration {i}')"
   ]
  },
  {
   "cell_type": "markdown",
   "id": "9e722444",
   "metadata": {},
   "source": [
    "### List Comprehensions, break, and continue in for-loops\n",
    "- **List comprehensions** provide a concise way to create lists.\n",
    "- **break** exits the loop early.\n",
    "- **continue** skips to the next iteration."
   ]
  },
  {
   "cell_type": "code",
   "execution_count": null,
   "id": "ac3e43a4",
   "metadata": {},
   "outputs": [],
   "source": [
    "# List comprehension: create a list of squares\n",
    "squares = [i**2 for i in range(5)]\n",
    "print('Squares:', squares)\n",
    "\n",
    "# Using break and continue in a for-loop\n",
    "for i in range(5):\n",
    "    if i == 2:\n",
    "        continue  # Skip the rest of the loop when i is 2\n",
    "    if i == 4:\n",
    "        break    # Exit the loop when i is 4\n",
    "    print('i:', i)"
   ]
  },
  {
   "cell_type": "markdown",
   "id": "0732abd9",
   "metadata": {},
   "source": [
    "## 3. The `while` Loop\n",
    "The `while` loop repeats as long as a condition is true."
   ]
  },
  {
   "cell_type": "code",
   "execution_count": null,
   "id": "8e7f9031",
   "metadata": {},
   "outputs": [],
   "source": [
    "count = 0\n",
    "while count < 3:\n",
    "    print(f'Count is {count}')\n",
    "    count += 1"
   ]
  },
  {
   "cell_type": "markdown",
   "id": "15409fb1",
   "metadata": {},
   "source": [
    "### break and continue in while-loops\n",
    "- **break** exits the loop early.\n",
    "- **continue** skips to the next iteration."
   ]
  },
  {
   "cell_type": "code",
   "execution_count": null,
   "id": "241e727c",
   "metadata": {},
   "outputs": [],
   "source": [
    "count = 0\n",
    "while count < 5:\n",
    "    count += 1\n",
    "    if count == 2:\n",
    "        continue  # Skip the rest of the loop when count is 2\n",
    "    if count == 4:\n",
    "        break    # Exit the loop when count is 4\n",
    "    print('count:', count)"
   ]
  },
  {
   "cell_type": "markdown",
   "id": "8ea209f9",
   "metadata": {},
   "source": [
    "---\n",
    "You can experiment by changing the conditions and ranges above to see how flow control works in Python!"
   ]
  }
 ],
 "metadata": {
  "language_info": {
   "name": "python"
  }
 },
 "nbformat": 4,
 "nbformat_minor": 5
}
