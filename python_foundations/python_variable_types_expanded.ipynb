{
 "cells": [
  {
   "cell_type": "markdown",
   "id": "5a7f3edb",
   "metadata": {},
   "source": [
    "# Python Built-in Data Types\n",
    "\n",
    "Python provides a comprehensive set of built-in data types to store and manipulate various kinds of data. These types are fundamental to Python programming and are categorized as follows. Each section below includes explanations and expanded examples."
   ]
  },
  {
   "cell_type": "markdown",
   "id": "626e054c",
   "metadata": {},
   "source": [
    "## 1. Numeric Types\n",
    "- **int**: Whole numbers (integers), positive or negative, no decimal point.\n",
    "- **float**: Real numbers with a decimal point.\n",
    "- **complex**: Numbers with a real and imaginary part."
   ]
  },
  {
   "cell_type": "code",
   "execution_count": null,
   "id": "8a947bea",
   "metadata": {},
   "outputs": [],
   "source": [
    "# Integer examples\n",
    "x = 42\n",
    "negative = -7\n",
    "large = 12345678901234567890\n",
    "print('x:', x, type(x))\n",
    "print('negative:', negative, type(negative))\n",
    "print('large:', large, type(large))\n",
    "\n",
    "# Float examples\n",
    "pi = 3.14159\n",
    "negative_float = -2.718\n",
    "scientific = 1.2e3  # 1200.0\n",
    "print('pi:', pi, type(pi))\n",
    "print('negative_float:', negative_float, type(negative_float))\n",
    "print('scientific:', scientific, type(scientific))\n",
    "\n",
    "# Complex examples\n",
    "z = 3 + 2j\n",
    "z2 = complex(5, -1)\n",
    "print('z:', z, type(z))\n",
    "print('z2:', z2, type(z2))\n",
    "print('z real part:', z.real)\n",
    "print('z imaginary part:', z.imag)"
   ]
  },
  {
   "cell_type": "markdown",
   "id": "92419250",
   "metadata": {},
   "source": [
    "## 2. Boolean Type\n",
    "- **bool**: Represents truth values, either `True` or `False`."
   ]
  },
  {
   "cell_type": "code",
   "execution_count": null,
   "id": "86f989f9",
   "metadata": {},
   "outputs": [],
   "source": [
    "# Boolean examples\n",
    "is_valid = True\n",
    "is_empty = False\n",
    "print('is_valid:', is_valid, type(is_valid))\n",
    "print('is_empty:', is_empty, type(is_empty))\n",
    "\n",
    "# Booleans from comparisons\n",
    "print('5 > 3:', 5 > 3)\n",
    "print('2 == 4:', 2 == 4)\n",
    "\n",
    "# Boolean conversion\n",
    "print('bool(0):', bool(0))\n",
    "print('bool(42):', bool(42))\n",
    "print('bool(\"\"):', bool(\"\"))\n",
    "print('bool(\"hello\"):', bool(\"hello\"))"
   ]
  },
  {
   "cell_type": "markdown",
   "id": "30c59538",
   "metadata": {},
   "source": [
    "## 3. Sequence Types\n",
    "- **str**: Sequences of characters (strings), immutable.\n",
    "- **list**: Ordered, mutable sequences.\n",
    "- **tuple**: Ordered, immutable sequences.\n",
    "- **range**: Immutable sequence of numbers, often used in loops."
   ]
  },
  {
   "cell_type": "code",
   "execution_count": null,
   "id": "88b78a96",
   "metadata": {},
   "outputs": [],
   "source": [
    "# String examples\n",
    "s = 'Hello, world!'\n",
    "multiline = \"\"\"This is a\\nmulti-line string.\"\"\"\n",
    "print('s:', s, type(s))\n",
    "print('multiline:', multiline)\n",
    "print('First 5 chars:', s[:5])\n",
    "print('Uppercase:', s.upper())\n",
    "\n",
    "# List examples\n",
    "numbers = [1, 2, 3, 4, 5]\n",
    "mixed = [1, 'two', 3.0, [4, 5]]\n",
    "numbers.append(6)\n",
    "print('numbers:', numbers, type(numbers))\n",
    "print('mixed:', mixed)\n",
    "print('First element:', numbers[0])\n",
    "\n",
    "# Tuple examples\n",
    "t = (10, 20, 30)\n",
    "singleton = (42,)\n",
    "print('t:', t, type(t))\n",
    "print('singleton:', singleton)\n",
    "# t[0] = 5  # Uncommenting this line would raise an error (tuples are immutable)\n",
    "\n",
    "# Range examples\n",
    "r = range(1, 6)\n",
    "print('range:', list(r), type(r))\n",
    "for i in r:\n",
    "    print('Range value:', i)"
   ]
  },
  {
   "cell_type": "markdown",
   "id": "92216200",
   "metadata": {},
   "source": [
    "## 4. Mapping Type\n",
    "- **dict**: Unordered collections of key-value pairs. Keys must be unique and immutable."
   ]
  },
  {
   "cell_type": "code",
   "execution_count": null,
   "id": "c038a95d",
   "metadata": {},
   "outputs": [],
   "source": [
    "# Dictionary examples\n",
    "person = {'name': 'Alice', 'age': 30, 'is_student': False}\n",
    "print('person:', person, type(person))\n",
    "print('Name:', person['name'])\n",
    "# Add a new key-value pair\n",
    "person['city'] = 'London'\n",
    "print('Updated person:', person)\n",
    "\n",
    "# Nested dictionary\n",
    "student = {\n",
    "    'name': 'Bob',\n",
    "    'grades': {'math': 90, 'science': 85}\n",
    "}\n",
    "print('student:', student)\n",
    "print('Math grade:', student['grades']['math'])"
   ]
  },
  {
   "cell_type": "markdown",
   "id": "fbf70b83",
   "metadata": {},
   "source": [
    "## 5. Set Types\n",
    "- **set**: Unordered, mutable collections of unique elements.\n",
    "- **frozenset**: Unordered, immutable collections of unique elements."
   ]
  },
  {
   "cell_type": "code",
   "execution_count": null,
   "id": "b09e45f9",
   "metadata": {},
   "outputs": [],
   "source": [
    "# Set examples\n",
    "colors = {'red', 'green', 'blue', 'red'}  # Duplicates are removed\n",
    "colors.add('yellow')\n",
    "print('colors:', colors, type(colors))\n",
    "\n",
    "# Set operations\n",
    "A = {1, 2, 3}\n",
    "B = {3, 4, 5}\n",
    "print('A union B:', A | B)\n",
    "print('A intersection B:', A & B)\n",
    "print('A difference B:', A - B)\n",
    "\n",
    "# Frozenset examples\n",
    "immutable_colors = frozenset(['red', 'green', 'blue'])\n",
    "print('immutable_colors:', immutable_colors, type(immutable_colors))"
   ]
  },
  {
   "cell_type": "markdown",
   "id": "57320792",
   "metadata": {},
   "source": [
    "## 6. Binary Types\n",
    "- **bytes**: Immutable sequences of bytes.\n",
    "- **bytearray**: Mutable sequences of bytes.\n",
    "- **memoryview**: Memory-efficient view of binary data."
   ]
  },
  {
   "cell_type": "code",
   "execution_count": null,
   "id": "52c4ec85",
   "metadata": {},
   "outputs": [],
   "source": [
    "# Bytes examples\n",
    "b = b'hello'\n",
    "print('b:', b, type(b))\n",
    "\n",
    "# Bytearray examples\n",
    "ba = bytearray(b'hello')\n",
    "ba[0] = 72  # Change 'h' to 'H'\n",
    "print('ba:', ba, ba.decode(), type(ba))\n",
    "\n",
    "# Memoryview examples\n",
    "mv = memoryview(b'hello')\n",
    "print('mv:', mv, type(mv))\n",
    "print('First byte:', mv[0])"
   ]
  },
  {
   "cell_type": "markdown",
   "id": "682fa846",
   "metadata": {},
   "source": [
    "## 7. None Type\n",
    "- **NoneType**: Represents the absence of a value. Only one value: `None`."
   ]
  },
  {
   "cell_type": "code",
   "execution_count": null,
   "id": "1fef4cdb",
   "metadata": {},
   "outputs": [],
   "source": [
    "# NoneType examples\n",
    "result = None\n",
    "print('result:', result, type(result))\n",
    "\n",
    "def do_nothing():\n",
    "    pass\n",
    "\n",
    "output = do_nothing()\n",
    "print('Output of do_nothing():', output)"
   ]
  },
  {
   "cell_type": "markdown",
   "id": "8f3cc7c3",
   "metadata": {},
   "source": [
    "## Summary Table\n",
    "| Category      | Type         | Description                                 |\n",
    "|---------------|--------------|---------------------------------------------|\n",
    "| Numeric       | int, float, complex | Numbers (integer, floating, complex)   |\n",
    "| Boolean       | bool         | True/False values                           |\n",
    "| Sequence      | str, list, tuple, range | Ordered collections                |\n",
    "| Mapping       | dict         | Key-value pairs                             |\n",
    "| Set           | set, frozenset | Unique unordered collections             |\n",
    "| Binary        | bytes, bytearray, memoryview | Binary data                    |\n",
    "| None          | NoneType     | Absence of value                            |\n",
    "\n",
    "These built-in types form the foundation for data handling in Python."
   ]
  }
 ],
 "metadata": {
  "kernelspec": {
   "display_name": "Python 3",
   "language": "python",
   "name": "python3"
  },
  "language_info": {
   "name": "python",
   "version": "3.13.7"
  }
 },
 "nbformat": 4,
 "nbformat_minor": 5
}
